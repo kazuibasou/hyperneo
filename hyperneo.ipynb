{
 "cells": [
  {
   "cell_type": "markdown",
   "id": "1e8675a7-dd87-457e-a619-ba7f5e23b0db",
   "metadata": {
    "ExecuteTime": {
     "end_time": "2024-11-24T12:24:04.798773Z",
     "start_time": "2024-11-24T12:24:04.797292Z"
    }
   },
   "source": [
    "If you use this code, please cite\n",
    "\n",
    "[Kazuki Nakajima, Takeaki Uno. Inference and Visualization of Community Structure in Attributed Hypergraphs Using Mixed-Membership Stochastic Block Models. Social Network Analysis and Mining. Vol. 15, Article No. 5 (2025).](https://doi.org/10.1007/s13278-025-01440-z)"
   ]
  },
  {
   "cell_type": "code",
   "execution_count": null,
   "id": "d7edd87969aa437e",
   "metadata": {
    "ExecuteTime": {
     "end_time": "2024-11-24T12:24:18.209843Z",
     "start_time": "2024-11-24T12:24:04.799925Z"
    }
   },
   "outputs": [],
   "source": [
    "import time\n",
    "import numpy as np\n",
    "import hypergraph, hymmsbm, hycosbm, comm_vis\n",
    "import matplotlib.pyplot as plt\n",
    "import pickle\n",
    "from sklearn.cluster import KMeans\n",
    "from sklearn.metrics import adjusted_mutual_info_score\n",
    "import math\n",
    "from scipy import stats\n",
    "import seaborn as sns\n",
    "import random\n",
    "from itertools import combinations\n",
    "from scipy.stats import wilcoxon\n",
    "from sklearn.model_selection import train_test_split\n",
    "from sklearn.svm import SVC\n",
    "from sklearn.model_selection import cross_val_score\n",
    "\n",
    "fontsize = 40\n",
    "datadir = \"./data\"\n",
    "\n",
    "plt.rcParams[\"font.size\"] = fontsize\n",
    "plt.rcParams['xtick.direction'] = 'in' \n",
    "plt.rcParams['ytick.direction'] = 'in' \n",
    "plt.rcParams['xtick.major.width'] = 2.5 \n",
    "plt.rcParams['xtick.minor.width'] = 1 \n",
    "plt.rcParams['ytick.major.width'] = 2.5 \n",
    "plt.rcParams['ytick.minor.width'] = 1 \n",
    "plt.rcParams['axes.linewidth'] = 2.5 \n",
    "plt.rcParams['xtick.major.size'] = 15\n",
    "plt.rcParams['xtick.minor.size'] = 12.5\n",
    "plt.rcParams['ytick.major.size'] = 15\n",
    "plt.rcParams['ytick.minor.size'] = 12.5\n",
    "plt.rcParams['hatch.linewidth'] = 0.3\n",
    "\n",
    "random_state = 42"
   ]
  },
  {
   "cell_type": "code",
   "execution_count": null,
   "id": "d110b2af-46d4-4200-8f62-8719f8706901",
   "metadata": {},
   "outputs": [],
   "source": [
    "import os\n",
    "\n",
    "if not os.path.exists(\"./figs\"):\n",
    "    os.makedirs(\"./figs\")"
   ]
  },
  {
   "cell_type": "code",
   "execution_count": null,
   "id": "168884df614be0a1",
   "metadata": {
    "ExecuteTime": {
     "end_time": "2024-11-24T12:25:43.413191Z",
     "start_time": "2024-11-24T12:24:18.212754Z"
    }
   },
   "outputs": [],
   "source": [
    "# Fig.2\n",
    "N = 1000\n",
    "beta_ = 1\n",
    "k = 3\n",
    "K = 2\n",
    "alpha_lst = [1, 10]\n",
    "p_att_lst = [0.5]\n",
    "label_name = [\"First community\",\"Second community\"]\n",
    "label_order = [0, 1]\n",
    "\n",
    "for p_att in p_att_lst:\n",
    "    for alpha in alpha_lst:\n",
    "        \n",
    "        data_name = 'syn_hard_' + str(N) + '_' + str(p_att) + '_' + str(alpha)\n",
    "        G, community = hypergraph.generate_uniform_hsbm(N, k, K, alpha, beta_, p_att)\n",
    "        \n",
    "        if p_att == 0.5:\n",
    "            model_name = \"hymmsbm\"\n",
    "            model = hymmsbm.HyMMSBM(G, K, random_state=random_state)\n",
    "            best_loglik, (U, W) = model.fit()\n",
    "        else:\n",
    "            model_name = \"hycosbm\"\n",
    "            gamma = 2 * p_att - 1\n",
    "            model = hycosbm.HyCoSBM(G, K, gamma, random_state=random_state)\n",
    "            best_loglik, (U, W, beta) = model.fit()\n",
    "        \n",
    "        G.X = community\n",
    "        \n",
    "        for dim_red in ['t-SNE', 'UMAP', 'triMAP', 'PaCMAP']:\n",
    "            comm_vis.node_embedding(G, data_name, U, W, label_name, label_order, random_state, \"euclidean\", model_name, dim_red=dim_red, fig_show=True)"
   ]
  },
  {
   "cell_type": "code",
   "execution_count": null,
   "id": "3f45ea36e05bda4f",
   "metadata": {
    "ExecuteTime": {
     "end_time": "2024-11-21T13:26:26.386743Z",
     "start_time": "2024-11-21T13:25:57.658258Z"
    }
   },
   "outputs": [],
   "source": [
    "# Fig.3\n",
    "N = 1000\n",
    "D = 3\n",
    "K = 2\n",
    "p_lst = [1.0, 0.8]\n",
    "w_in_lst = [0.1]\n",
    "label_name = [\"Group 1\",\"Group 2\"]\n",
    "label_order = [0, 1]\n",
    "\n",
    "for p in p_lst:\n",
    "    for w_in in w_in_lst:\n",
    "        data_name = 'syn_mix_' + str(N) + '_' + str(w_in) + '_' + str(p)\n",
    "        \n",
    "        G, community = hypergraph.generate_hymmsbm(N, D, K, p, w_in)\n",
    "        \n",
    "        model_name = \"hymmsbm\"\n",
    "        model = hymmsbm.HyMMSBM(G, K, random_state=random_state)\n",
    "        best_loglik, (U, W) = model.fit()\n",
    "        \n",
    "        G.X = community\n",
    "        \n",
    "        for dim_red in ['t-SNE', 'UMAP', 'triMAP', 'PaCMAP']:\n",
    "                comm_vis.node_embedding(G, data_name, U, W, label_name, label_order, random_state, \"euclidean\", model_name, dim_red=dim_red, fig_show=True)"
   ]
  },
  {
   "cell_type": "code",
   "execution_count": null,
   "id": "bd0e71a959d68d74",
   "metadata": {},
   "outputs": [],
   "source": [
    "# Fig.4\n",
    "N = 1000\n",
    "beta_ = 1\n",
    "k = 3\n",
    "K = 2\n",
    "alpha_lst = [4]\n",
    "p_att_lst = [0.6, 0.9]\n",
    "label_name = [\"First community\",\"Second community\"]\n",
    "label_order = [0, 1]\n",
    "\n",
    "for p_att in p_att_lst:\n",
    "    for alpha in alpha_lst:\n",
    "        \n",
    "        data_name = 'syn_hard_' + str(N) + '_' + str(p_att) + '_' + str(alpha)\n",
    "        G, community = hypergraph.generate_uniform_hsbm(N, k, K, alpha, beta_, p_att)\n",
    "        \n",
    "        model_name = \"hycosbm\"\n",
    "        gamma = 2 * p_att - 1\n",
    "        model = hycosbm.HyCoSBM(G, K, gamma, random_state=random_state)\n",
    "        best_loglik, (U, W, beta) = model.fit()\n",
    "        \n",
    "        G.X = community\n",
    "        \n",
    "        for dim_red in ['t-SNE', 'UMAP', 'triMAP', 'PaCMAP']:\n",
    "            comm_vis.node_embedding(G, data_name, U, W, label_name, label_order, random_state, \"euclidean\", model_name, dim_red=dim_red, fig_show=True)"
   ]
  },
  {
   "cell_type": "code",
   "execution_count": null,
   "id": "1ab455f1e4cddab1",
   "metadata": {},
   "outputs": [],
   "source": [
    "def hymmsbm_hyperparameter_tuning(G):\n",
    "    t_s = time.time()\n",
    "    best_auc, K, auc_score_ = hymmsbm.HyperParamTuning(G).run(G)\n",
    "    t_e = time.time()\n",
    "    print(\"HyMMSBM\", \"Best hyperparameter set\", best_auc, K)\n",
    "    print(\"Elapsed time\", t_e - t_s)\n",
    "    \n",
    "    auc_score = {}\n",
    "    for i in range(0, auc_score_.shape[0]):\n",
    "        K = hymmsbm.HyperParamTuning(G).K_lst[i]\n",
    "        auc_score[K] = []\n",
    "        for j in range(0, auc_score_.shape[1]):\n",
    "            auc_score[K].append(auc_score_[i, j])\n",
    "\n",
    "    return auc_score"
   ]
  },
  {
   "cell_type": "code",
   "execution_count": null,
   "id": "9384165d82ba69c2",
   "metadata": {},
   "outputs": [],
   "source": [
    "def hycosbm_hyperparamter_tuning(G):\n",
    "    t_s = time.time()\n",
    "    best_auc, (K, gamma), auc_score_ = hycosbm.HyperParamTuning(G).run(G)\n",
    "    t_e = time.time()\n",
    "    print(\"HyCoSBM\", \"Best hyperparameter set\", best_auc, K, gamma)\n",
    "    print(\"Elapsed time\", t_e - t_s)\n",
    "\n",
    "    auc_score = {}\n",
    "    for i in range(0, auc_score_.shape[0]):\n",
    "        K = hycosbm.HyperParamTuning(G).K_lst[i]\n",
    "        for j in range(0, auc_score_.shape[1]):\n",
    "            gamma = hycosbm.HyperParamTuning(G).gamma_lst[j]\n",
    "            auc_score[(K, gamma)] = []\n",
    "            for k in range(0, auc_score_.shape[2]):\n",
    "                auc_score[(K, gamma)].append(auc_score_[i, j, k])\n",
    "\n",
    "    return auc_score"
   ]
  },
  {
   "cell_type": "code",
   "execution_count": null,
   "id": "1e2f7a5023f2a38e",
   "metadata": {},
   "outputs": [],
   "source": [
    "def construct_train_and_test_sets(G, p=0.2):\n",
    "    hyperedge_indices = list(range(0, G.M))\n",
    "    random.shuffle(hyperedge_indices)\n",
    "\n",
    "    E_train, E_test = [G.E[hyperedge_indices[i]] for i in range(0, int((1 - p) * G.M))], [G.E[hyperedge_indices[i]] for i in range(int((1 - p) * G.M), G.M)]\n",
    "    A_train, A_test = [G.A[hyperedge_indices[i]] for i in range(0, int((1 - p) * G.M))], [G.A[hyperedge_indices[i]] for i in range(int((1 - p) * G.M), G.M)]\n",
    "\n",
    "    G_train = hypergraph.HyperGraph(G.N, int(len(E_train)), G.Z)\n",
    "    G_train.E = E_train\n",
    "    G_train.A = A_train\n",
    "    G_train.X = G.X\n",
    "\n",
    "    G_test = hypergraph.HyperGraph(G.N, int(len(E_test)), G.Z)\n",
    "    G_test.E = E_test\n",
    "    G_test.A = A_test\n",
    "    G_test.X = G.X\n",
    "\n",
    "    return G_train, G_test"
   ]
  },
  {
   "cell_type": "code",
   "execution_count": null,
   "id": "1e72dd9caae11181",
   "metadata": {},
   "outputs": [],
   "source": [
    "def construct_R_lst(G_test):\n",
    "    R = []\n",
    "    sampled_edges = []\n",
    "    for m in range(0, G_test.M):\n",
    "        e, e_ = set(G_test.E[m]), set()\n",
    "        s = len(e)\n",
    "        flag = True\n",
    "        while flag:\n",
    "            e_ = set(random.sample(range(G_test.N), k=s))\n",
    "            if len(e_) == s and e_ not in G.E and e_ not in sampled_edges:\n",
    "                flag = False\n",
    "                sampled_edges.append(e_)\n",
    "        R.append((e, e_))\n",
    "        \n",
    "    return R"
   ]
  },
  {
   "cell_type": "code",
   "execution_count": null,
   "id": "32038d2d99ae6060",
   "metadata": {},
   "outputs": [],
   "source": [
    "def calc_auc(U, W, R):\n",
    "    auc = 0.0\n",
    "    for (e, e_) in R:\n",
    "        param0 = sum([(U[i_] * W * U[j_].T).sum() for (i_, j_) in list(combinations(sorted(list(e_)), 2))])\n",
    "        param1 = sum([(U[i_] * W * U[j_].T).sum() for (i_, j_) in list(combinations(sorted(list(e)), 2))])\n",
    "\n",
    "        if param1 > param0:\n",
    "            auc += 1.0\n",
    "        elif math.isclose(param0, param1):\n",
    "            auc += 0.5\n",
    "    \n",
    "    return float(auc) / len(R)"
   ]
  },
  {
   "cell_type": "code",
   "execution_count": null,
   "id": "5bc3c72a04c84751",
   "metadata": {},
   "outputs": [],
   "source": [
    "def signed_rank_test(G, hymmsbm_best_param, hycosbm_best_param, num_samples=100):\n",
    "    \n",
    "    x, y = [], []\n",
    "    for r in range(0, num_samples):\n",
    "        G_train, G_test = construct_train_and_test_sets(G)\n",
    "        R = construct_R_lst(G_test)\n",
    "\n",
    "        K = hymmsbm_best_param\n",
    "        model = hymmsbm.HyMMSBM(G_train, K)\n",
    "        best_loglik, (U, W) = model.fit()\n",
    "        auc = calc_auc(U, W, R)\n",
    "        x.append(auc)\n",
    "        \n",
    "        (K, gamma) = hycosbm_best_param\n",
    "        model = hycosbm.HyCoSBM(G_train, K, gamma)\n",
    "        best_loglik, (U, W, Beta) = model.fit()\n",
    "        auc = calc_auc(U, W, R)\n",
    "        y.append(auc)\n",
    "        \n",
    "    print(x)\n",
    "    print(y)\n",
    "    \n",
    "    return wilcoxon(x,y,alternative='less',method='exact')"
   ]
  },
  {
   "cell_type": "code",
   "execution_count": null,
   "id": "973e9f0d-6662-4ee1-8630-d9964a53afcb",
   "metadata": {
    "ExecuteTime": {
     "end_time": "2024-11-23T08:45:27.469969Z",
     "start_time": "2024-11-23T08:45:27.465260Z"
    }
   },
   "outputs": [],
   "source": [
    "data_name = \"workplace\"\n",
    "G = hypergraph.read_empirical_hypergraph_data(data_name, print_info=True)"
   ]
  },
  {
   "cell_type": "code",
   "execution_count": null,
   "id": "127b9a4721636a4c",
   "metadata": {
    "scrolled": true
   },
   "outputs": [],
   "source": [
    "hymmsbm_auc_score = hymmsbm_hyperparameter_tuning(G)"
   ]
  },
  {
   "cell_type": "code",
   "execution_count": null,
   "id": "133c0286e46fbaae",
   "metadata": {
    "scrolled": true
   },
   "outputs": [],
   "source": [
    "hycosbm_auc_score = hycosbm_hyperparamter_tuning(G)"
   ]
  },
  {
   "cell_type": "code",
   "execution_count": null,
   "id": "260aafb12f0c172a",
   "metadata": {},
   "outputs": [],
   "source": [
    "hymmsbm_best_param = 5\n",
    "hycosbm_best_param = (5, 0.9)\n",
    "#print(stats.ttest_ind(list(hymmsbm_auc_score[hymmsbm_best_param]), hycosbm_auc_score[hycosbm_best_param], equal_var=False, alternative='less'))"
   ]
  },
  {
   "cell_type": "code",
   "execution_count": null,
   "id": "88dfae17e3e71aaa",
   "metadata": {},
   "outputs": [],
   "source": [
    "signed_rank_test(G, hymmsbm_best_param, hycosbm_best_param, num_samples=100)"
   ]
  },
  {
   "cell_type": "code",
   "execution_count": null,
   "id": "55fd850e-c53d-4688-8df2-40f6aaff9897",
   "metadata": {
    "ExecuteTime": {
     "end_time": "2024-11-23T08:45:29.632287Z",
     "start_time": "2024-11-23T08:45:29.630240Z"
    }
   },
   "outputs": [],
   "source": [
    "label_name = [\"DISQ\",\"DMCT\",\"DSE\",\"SFLE\",\"SRH\"]\n",
    "label_order = [0,1,2,3,4]"
   ]
  },
  {
   "cell_type": "code",
   "execution_count": null,
   "id": "4b6a61a0-7dc3-4d77-85f7-f774ab8a4fe2",
   "metadata": {
    "ExecuteTime": {
     "end_time": "2024-11-23T08:45:59.419126Z",
     "start_time": "2024-11-23T08:45:58.184938Z"
    }
   },
   "outputs": [],
   "source": [
    "# Hy-MMSBM\n",
    "model_name = \"hymmsbm\"\n",
    "K = 5\n",
    "model = hymmsbm.HyMMSBM(G, K, random_state=random_state)\n",
    "best_loglik, (U, W) = model.fit()\n",
    "community_order = [4,1,2,3,0]\n",
    "comm_vis.plot_inferred_membership_matrix(G, data_name, U, label_name, label_order, community_order, model_name)\n",
    "comm_vis.node_embedding(G, data_name, U, W, label_name, label_order, random_state, \"euclidean\", model_name, dim_red='t-SNE')"
   ]
  },
  {
   "cell_type": "code",
   "execution_count": null,
   "id": "b0a2c1be-c771-4bc5-84a1-22a6b1be668b",
   "metadata": {
    "ExecuteTime": {
     "end_time": "2024-11-23T08:46:01.241795Z",
     "start_time": "2024-11-23T08:45:59.679056Z"
    }
   },
   "outputs": [],
   "source": [
    "# HyCoSBM\n",
    "model_name = \"hycosbm\"\n",
    "K, gamma = 5, 0.9\n",
    "model = hycosbm.HyCoSBM(G, K, gamma, random_state=random_state)\n",
    "best_loglik, (U, W, beta) = model.fit()\n",
    "community_order = [4,3,1,2,0]\n",
    "comm_vis.plot_inferred_membership_matrix(G, data_name, U, label_name, label_order, community_order, model_name)\n",
    "comm_vis.plot_inferred_attribute_correlation_matrix(data_name, beta, label_name, label_order, community_order, model_name)\n",
    "comm_vis.node_embedding(G, data_name, U, W, label_name, label_order, random_state, \"euclidean\", model_name, dim_red='t-SNE')"
   ]
  },
  {
   "cell_type": "code",
   "execution_count": null,
   "id": "51bb1282-4eac-4071-a3c6-37e486c6c0cf",
   "metadata": {
    "ExecuteTime": {
     "end_time": "2024-11-23T03:40:23.792687Z",
     "start_time": "2024-11-23T03:40:23.784240Z"
    }
   },
   "outputs": [],
   "source": [
    "data_name = \"hospital\"\n",
    "G = hypergraph.read_empirical_hypergraph_data(data_name, print_info=True)"
   ]
  },
  {
   "cell_type": "code",
   "execution_count": null,
   "id": "b0d318f9576685bf",
   "metadata": {
    "scrolled": true
   },
   "outputs": [],
   "source": [
    "hymmsbm_auc_score = hymmsbm_hyperparameter_tuning(G)"
   ]
  },
  {
   "cell_type": "code",
   "execution_count": null,
   "id": "ef9131a3c1a41b4",
   "metadata": {
    "scrolled": true
   },
   "outputs": [],
   "source": [
    "hycosbm_auc_score = hycosbm_hyperparamter_tuning(G)"
   ]
  },
  {
   "cell_type": "code",
   "execution_count": null,
   "id": "6343429ce7f402f1",
   "metadata": {},
   "outputs": [],
   "source": [
    "hymmsbm_best_param = 2\n",
    "hycosbm_best_param = (2, 0.3)\n",
    "#print(stats.ttest_ind(list(hymmsbm_auc_score[hymmsbm_best_param]), hycosbm_auc_score[hycosbm_best_param], equal_var=False, alternative='less'))"
   ]
  },
  {
   "cell_type": "code",
   "execution_count": null,
   "id": "59e3a17fffc40376",
   "metadata": {},
   "outputs": [],
   "source": [
    "signed_rank_test(G, hymmsbm_best_param, hycosbm_best_param, num_samples=100)"
   ]
  },
  {
   "cell_type": "code",
   "execution_count": null,
   "id": "567f8e59-7b0c-487a-9f80-e3ce169b0198",
   "metadata": {
    "ExecuteTime": {
     "end_time": "2024-11-23T03:40:26.232078Z",
     "start_time": "2024-11-23T03:40:26.230257Z"
    }
   },
   "outputs": [],
   "source": [
    "label_name = [\"ADM\",\"MED\",\"NUR\",\"PAT\"]\n",
    "label_order = [0,1,2,3]"
   ]
  },
  {
   "cell_type": "code",
   "execution_count": null,
   "id": "c0ef7563-a4c0-4023-a280-61eb0363c296",
   "metadata": {
    "ExecuteTime": {
     "end_time": "2024-11-23T03:40:28.279296Z",
     "start_time": "2024-11-23T03:40:26.599021Z"
    }
   },
   "outputs": [],
   "source": [
    "# Hy-MMSBM\n",
    "model_name = \"hymmsbm\"\n",
    "K = 2\n",
    "model = hymmsbm.HyMMSBM(G, K, random_state=random_state)\n",
    "best_loglik, (U, W) = model.fit()\n",
    "community_order = [0, 1]\n",
    "comm_vis.plot_inferred_membership_matrix(G, data_name, U, label_name, label_order, community_order, model_name)\n",
    "comm_vis.node_embedding(G, data_name, U, W, label_name, label_order, random_state, \"euclidean\", model_name, dim_red='t-SNE')\n",
    "#comm_vis.node_embedding(G, data_name, U, W, label_name, label_order, random_state, \"cosine\", model_name)"
   ]
  },
  {
   "cell_type": "code",
   "execution_count": null,
   "id": "0c932315-85a5-4f82-866f-a10c436f9243",
   "metadata": {
    "ExecuteTime": {
     "end_time": "2024-11-23T03:37:44.941373Z",
     "start_time": "2024-11-23T03:37:43.644082Z"
    }
   },
   "outputs": [],
   "source": [
    "# HyCoSBM\n",
    "model_name = \"hycosbm\"\n",
    "K, gamma = 2, 0.7\n",
    "model = hycosbm.HyCoSBM(G, K, gamma, random_state=random_state)\n",
    "best_loglik, (U, W, beta) = model.fit()\n",
    "community_order = [0, 1]\n",
    "comm_vis.plot_inferred_membership_matrix(G, data_name, U, label_name, label_order, community_order, model_name)\n",
    "comm_vis.plot_inferred_attribute_correlation_matrix(data_name, beta, label_name, label_order, community_order, model_name)\n",
    "comm_vis.node_embedding(G, data_name, U, W, label_name, label_order, random_state, \"euclidean\", model_name, dim_red='t-SNE')\n",
    "#comm_vis.node_embedding(G, data_name, U, W, label_name, label_order, random_state, \"cosine\", model_name)"
   ]
  },
  {
   "cell_type": "code",
   "execution_count": null,
   "id": "2b66f1ca72efd0c8",
   "metadata": {
    "ExecuteTime": {
     "end_time": "2024-11-23T03:40:35.428352Z",
     "start_time": "2024-11-23T03:40:34.970316Z"
    }
   },
   "outputs": [],
   "source": [
    "data_name = \"contact-high-school\"\n",
    "G = hypergraph.read_empirical_hypergraph_data(data_name, print_info=True)"
   ]
  },
  {
   "cell_type": "code",
   "execution_count": null,
   "id": "e3a08bdb8e732fa5",
   "metadata": {
    "scrolled": true
   },
   "outputs": [],
   "source": [
    "hymmsbm_auc_score = hymmsbm_hyperparameter_tuning(G)"
   ]
  },
  {
   "cell_type": "code",
   "execution_count": null,
   "id": "db3ff5f8f7d0dcf6",
   "metadata": {
    "scrolled": true
   },
   "outputs": [],
   "source": [
    "hycosbm_auc_score = hycosbm_hyperparamter_tuning(G)"
   ]
  },
  {
   "cell_type": "code",
   "execution_count": null,
   "id": "f072c687bb6c6790",
   "metadata": {},
   "outputs": [],
   "source": [
    "hymmsbm_best_param = 3\n",
    "hycosbm_best_param = (9, 0.9)\n",
    "#print(stats.ttest_ind(list(hymmsbm_auc_score[hymmsbm_best_param]), hycosbm_auc_score[hycosbm_best_param], equal_var=False, alternative='less'))"
   ]
  },
  {
   "cell_type": "code",
   "execution_count": null,
   "id": "9644f3746345650c",
   "metadata": {},
   "outputs": [],
   "source": [
    "signed_rank_test(G, hymmsbm_best_param, hycosbm_best_param, num_samples=100)"
   ]
  },
  {
   "cell_type": "code",
   "execution_count": null,
   "id": "302d7d85-46f6-4139-ad83-15dd3c1ab788",
   "metadata": {
    "ExecuteTime": {
     "end_time": "2024-11-23T03:40:38.056328Z",
     "start_time": "2024-11-23T03:40:38.054103Z"
    }
   },
   "outputs": [],
   "source": [
    "label_name = [\"2BIO1\", \"2BIO2\", \"2BIO3\", \"MP*1\", \"MP*2\", \"PSI*\", \"PC\", \"PC*\", \"MP\"]\n",
    "label_order = [0, 1, 2, 8, 3, 4, 6, 7, 5]"
   ]
  },
  {
   "cell_type": "code",
   "execution_count": null,
   "id": "79edb646-66ed-494e-8666-b70ba045c47b",
   "metadata": {
    "ExecuteTime": {
     "end_time": "2024-11-23T03:40:40.341764Z",
     "start_time": "2024-11-23T03:40:38.452702Z"
    },
    "scrolled": true
   },
   "outputs": [],
   "source": [
    "# Hy-MMSBM\n",
    "model_name = \"hymmsbm\"\n",
    "K = 3\n",
    "model = hymmsbm.HyMMSBM(G, K, random_state=random_state)\n",
    "best_loglik, (U, W) = model.fit()\n",
    "community_order = [0, 1, 2]\n",
    "comm_vis.plot_inferred_membership_matrix(G, data_name, U, label_name, label_order, community_order, model_name)\n",
    "comm_vis.node_embedding(G, data_name, U, W, label_name, label_order, random_state, \"euclidean\", model_name, dim_red='t-SNE')\n",
    "#comm_vis.node_embedding(G, data_name, U, W, label_name, label_order, random_state, \"cosine\", model_name, dim_red='t-SNE')"
   ]
  },
  {
   "cell_type": "code",
   "execution_count": null,
   "id": "8d128162-ca9d-4059-b3b9-9eeb381e1e02",
   "metadata": {
    "ExecuteTime": {
     "end_time": "2024-11-23T03:39:08.261325Z",
     "start_time": "2024-11-23T03:39:04.304433Z"
    }
   },
   "outputs": [],
   "source": [
    "# HyCoSBM\n",
    "model_name = \"hycosbm\"\n",
    "K, gamma = 9, 0.9\n",
    "model = hycosbm.HyCoSBM(G, K, gamma, random_state=random_state)\n",
    "best_loglik, (U, W, beta) = model.fit()\n",
    "community_order = [1,4,5,6,3,8,2,0,7]\n",
    "comm_vis.plot_inferred_membership_matrix(G, data_name, U, label_name, label_order, community_order, model_name)\n",
    "comm_vis.plot_inferred_attribute_correlation_matrix(data_name, beta, label_name, label_order, community_order, model_name)\n",
    "comm_vis.node_embedding(G, data_name, U, W, label_name, label_order, random_state, \"euclidean\", model_name, dim_red='t-SNE')\n",
    "#comm_vis.node_embedding(G, data_name, U, W, label_name, label_order, random_state, \"cosine\", model_name, dim_red='t-SNE')"
   ]
  },
  {
   "cell_type": "code",
   "execution_count": null,
   "id": "298a9cd6-2cc0-46bf-87bd-90222b4933de",
   "metadata": {},
   "outputs": [],
   "source": [
    "data_name = \"contact-primary-school\"\n",
    "G = hypergraph.read_empirical_hypergraph_data(data_name, print_info=True)"
   ]
  },
  {
   "cell_type": "code",
   "execution_count": null,
   "id": "ef4293cc41b4cf27",
   "metadata": {
    "scrolled": true
   },
   "outputs": [],
   "source": [
    "hymmsbm_auc_score = hymmsbm_hyperparameter_tuning(G)"
   ]
  },
  {
   "cell_type": "code",
   "execution_count": null,
   "id": "e6333a233a30b56",
   "metadata": {
    "scrolled": true
   },
   "outputs": [],
   "source": [
    "hycosbm_auc_score = hycosbm_hyperparamter_tuning(G)"
   ]
  },
  {
   "cell_type": "code",
   "execution_count": null,
   "id": "b29e29a5860090e",
   "metadata": {},
   "outputs": [],
   "source": [
    "hymmsbm_best_param = 3\n",
    "hycosbm_best_param = (11, 0.8)\n",
    "#print(stats.ttest_ind(list(hymmsbm_auc_score[hymmsbm_best_param]), hycosbm_auc_score[hycosbm_best_param], equal_var=False, alternative='less'))\n",
    "signed_rank_test(G, hymmsbm_best_param, hycosbm_best_param, num_samples=100)"
   ]
  },
  {
   "cell_type": "code",
   "execution_count": null,
   "id": "06d35ede-096a-4fed-94e1-720b7ed27a4f",
   "metadata": {},
   "outputs": [],
   "source": [
    "label_name = [\"5B\", \"5A\", \"4A\", \"Teachers\", \"3B\", \"4B\", \"2A\", \"1B\", \"2B\", \"1A\", \"3A\"]\n",
    "label_order = [9, 7, 6, 8, 10, 4, 2, 5, 1, 0, 3]"
   ]
  },
  {
   "cell_type": "code",
   "execution_count": null,
   "id": "4f86b44f-a93b-4592-938b-0a13831ec94c",
   "metadata": {},
   "outputs": [],
   "source": [
    "# Hy-MMSBM\n",
    "model_name = \"hymmsbm\"\n",
    "K = 3\n",
    "model = hymmsbm.HyMMSBM(G, K, random_state=random_state)\n",
    "best_loglik, (U, W) = model.fit()\n",
    "community_order = [0, 2, 1]\n",
    "comm_vis.plot_inferred_membership_matrix(G, data_name, U, label_name, label_order, community_order, model_name)\n",
    "#comm_vis.node_embedding(G, data_name, U, W, label_name, label_order, random_state, \"euclidean\", model_name)\n",
    "#comm_vis.node_embedding(G, data_name, U, W, label_name, label_order, random_state, \"cosine\", model_name)"
   ]
  },
  {
   "cell_type": "code",
   "execution_count": null,
   "id": "12e710ca-1742-48e7-9f83-425d873a9b7c",
   "metadata": {},
   "outputs": [],
   "source": [
    "# HyCoSBM\n",
    "model_name = \"hycosbm\"\n",
    "K, gamma = 11, 0.8\n",
    "model = hycosbm.HyCoSBM(G, K, gamma, random_state=random_state)\n",
    "best_loglik, (U, W, beta) = model.fit()\n",
    "community_order = [9,0,3,4,8,6,10,1,2,7,5]\n",
    "comm_vis.plot_inferred_membership_matrix(G, data_name, U, label_name, label_order, community_order, model_name)\n",
    "comm_vis.plot_inferred_attribute_correlation_matrix(data_name, beta, label_name, label_order, community_order, model_name)\n",
    "#comm_vis.node_embedding(G, data_name, U, W, label_name, label_order, random_state, \"euclidean\", model_name)\n",
    "#comm_vis.node_embedding(G, data_name, U, W, label_name, label_order, random_state, \"cosine\", model_name)"
   ]
  },
  {
   "cell_type": "code",
   "execution_count": null,
   "id": "0c92c7fb-aed9-4484-9d8b-cf4977ff84b1",
   "metadata": {},
   "outputs": [],
   "source": [
    "data_name = \"house-committees\"\n",
    "G = hypergraph.read_empirical_hypergraph_data(data_name, print_info=True)"
   ]
  },
  {
   "cell_type": "code",
   "execution_count": null,
   "id": "f99ea656ddb8c69b",
   "metadata": {},
   "outputs": [],
   "source": [
    "hymmsbm_auc_score = hymmsbm_hyperparameter_tuning(G)"
   ]
  },
  {
   "cell_type": "code",
   "execution_count": null,
   "id": "e9e90d429e3bdaa3",
   "metadata": {},
   "outputs": [],
   "source": [
    "hycosbm_auc_score = hycosbm_hyperparamter_tuning(G)"
   ]
  },
  {
   "cell_type": "code",
   "execution_count": null,
   "id": "412b52ed1feb9ab3",
   "metadata": {},
   "outputs": [],
   "source": [
    "hymmsbm_best_param = 15\n",
    "hycosbm_best_param = (4, 0.4)\n",
    "#print(stats.ttest_ind(list(hymmsbm_auc_score[hymmsbm_best_param]), hycosbm_auc_score[hycosbm_best_param], equal_var=False, alternative='less'))\n",
    "signed_rank_test(G, hymmsbm_best_param, hycosbm_best_param, num_samples=100)"
   ]
  },
  {
   "cell_type": "code",
   "execution_count": null,
   "id": "b8d5bec729390fd0",
   "metadata": {},
   "outputs": [],
   "source": [
    "data_name = \"senate-committees\"\n",
    "G = hypergraph.read_empirical_hypergraph_data(data_name, print_info=True)"
   ]
  },
  {
   "cell_type": "code",
   "execution_count": null,
   "id": "e791f1af31560b53",
   "metadata": {},
   "outputs": [],
   "source": [
    "hymmsbm_auc_score = hymmsbm_hyperparameter_tuning(G)"
   ]
  },
  {
   "cell_type": "code",
   "execution_count": null,
   "id": "4a6a54f0d1393105",
   "metadata": {},
   "outputs": [],
   "source": [
    "hycosbm_auc_score = hycosbm_hyperparamter_tuning(G)"
   ]
  },
  {
   "cell_type": "code",
   "execution_count": null,
   "id": "fb9ed6ddc178d349",
   "metadata": {},
   "outputs": [],
   "source": [
    "hymmsbm_best_param = 3\n",
    "hycosbm_best_param = (4, 0.7)\n",
    "#print(stats.ttest_ind(list(hymmsbm_auc_score[hymmsbm_best_param]), hycosbm_auc_score[hycosbm_best_param], equal_var=False, alternative='less'))\n",
    "signed_rank_test(G, hymmsbm_best_param, hycosbm_best_param, num_samples=100)"
   ]
  },
  {
   "cell_type": "code",
   "execution_count": null,
   "id": "61e806446921c7ed",
   "metadata": {},
   "outputs": [],
   "source": []
  }
 ],
 "metadata": {
  "kernelspec": {
   "display_name": "Python 3 (ipykernel)",
   "language": "python",
   "name": "python3"
  },
  "language_info": {
   "codemirror_mode": {
    "name": "ipython",
    "version": 3
   },
   "file_extension": ".py",
   "mimetype": "text/x-python",
   "name": "python",
   "nbconvert_exporter": "python",
   "pygments_lexer": "ipython3",
   "version": "3.10.15"
  }
 },
 "nbformat": 4,
 "nbformat_minor": 5
}
